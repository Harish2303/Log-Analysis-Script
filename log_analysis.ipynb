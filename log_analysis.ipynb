
# Log Analysis Script

## Objective
This project analyzes web server log files to extract and process key data like requests per IP address, the most frequently accessed endpoint, and suspicious activities.

### Core Requirements
1. **Count Requests per IP Address**: The script extracts IP addresses from the log file and calculates the number of requests for each IP.
2. **Identify the Most Frequently Accessed Endpoint**: The script analyzes the endpoints accessed and determines the most frequently accessed one.
3. **Detect Suspicious Activity**: The script flags IP addresses with failed login attempts exceeding a threshold.
4. **Output Results**: The results are displayed in the terminal and saved to a CSV file for easy sharing.

### Python Code

```python
import csv
from collections import Counter

# Parse log file
log_file = 'sample.log'
ip_counter = Counter()
endpoint_counter = Counter()
failed_logins = {}

# Define the threshold for suspicious activity
failed_threshold = 10

# Function to process the log file
def process_log():
    with open(log_file, 'r') as f:
        for line in f:
            parts = line.split()
            ip = parts[0]
            endpoint = parts[6]
            status_code = parts[8]
            if status_code == '401':
                failed_logins[ip] = failed_logins.get(ip, 0) + 1
            ip_counter[ip] += 1
            endpoint_counter[endpoint] += 1

# Call function to process the log file
process_log()

# 1. IP Requests
print("IP Address           Request Count")
for ip, count in ip_counter.most_common():
    print(f"{ip:<20} {count}")

# 2. Most Frequently Accessed Endpoint
most_accessed_endpoint = endpoint_counter.most_common(1)[0]
print(f"
Most Frequently Accessed Endpoint:
{most_accessed_endpoint[0]} (Accessed {most_accessed_endpoint[1]} times)")

# 3. Suspicious Activity
print("
Suspicious Activity Detected:")
print("IP Address           Failed Login Attempts")
for ip, failed_count in failed_logins.items():
    if failed_count > failed_threshold:
        print(f"{ip:<20} {failed_count}")

# Save results to CSV
with open('log_analysis_results.csv', 'w', newline='') as csvfile:
    fieldnames = ['IP Address', 'Request Count']
    writer = csv.DictWriter(csvfile, fieldnames=fieldnames)
    writer.writeheader()
    for ip, count in ip_counter.items():
        writer.writerow({'IP Address': ip, 'Request Count': count})
